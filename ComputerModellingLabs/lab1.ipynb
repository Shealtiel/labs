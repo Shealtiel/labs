{
 "cells": [
  {
   "cell_type": "code",
   "execution_count": 1,
   "metadata": {},
   "outputs": [],
   "source": [
    "import numpy as np\n",
    "import math\n",
    "import matplotlib\n",
    "import matplotlib.pyplot as plt"
   ]
  },
  {
   "cell_type": "code",
   "execution_count": 2,
   "metadata": {},
   "outputs": [
    {
     "name": "stdout",
     "output_type": "stream",
     "text": [
      "27.665524783584388\n"
     ]
    }
   ],
   "source": [
    "K = 1\n",
    "m = 5\n",
    "g = 10\n",
    "h0 = 1\n",
    "h = np.array([h0])\n",
    "t = np.array([])\n",
    "\n",
    "for i in range(900):\n",
    "    new_h = h[i] - K / (m * g) * (2 * g * h[i]) ** (5/4)\n",
    "    h = np.append(h, new_h)\n",
    "    \n",
    "delta_t = np.zeros_like(h)\n",
    "delta_t[0] = np.sqrt(2 * h[0] * g)\n",
    "delta_t[1:] = 2 * np.sqrt(2 * h[1:] * g)\n",
    "\n",
    "print(np.sum(delta_t))\n",
    "for i in range(len(delta_t)):\n",
    "    t = np.append(t, np.sum(delta_t[:i]))"
   ]
  },
  {
   "cell_type": "code",
   "execution_count": 3,
   "metadata": {},
   "outputs": [
    {
     "data": {
      "image/png": "[encoded data removed]",
      "text/plain": [
       "<Figure size 432x288 with 1 Axes>"
      ]
     },
     "metadata": {
      "needs_background": "light"
     },
     "output_type": "display_data"
    }
   ],
   "source": [
    "fig, ax = plt.subplots()\n",
    "ax.plot(t, h, '.')\n",
    "plt.xlabel('time')\n",
    "plt.ylabel('max_height')\n",
    "\n",
    "plt.show()"
   ]
  },
  {
   "cell_type": "code",
   "execution_count": 4,
   "metadata": {},
   "outputs": [
    {
     "data": {
      "image/png": "[encoded data removed]",
      "text/plain": [
       "<Figure size 432x288 with 1 Axes>"
      ]
     },
     "metadata": {
      "needs_background": "light"
     },
     "output_type": "display_data"
    }
   ],
   "source": [
    "fig, ax = plt.subplots()\n",
    "ax.plot(t, delta_t, '.')\n",
    "plt.xlabel('time')\n",
    "plt.ylabel('time of fall')\n",
    "\n",
    "plt.show()"
   ]
  },
  {
   "cell_type": "code",
   "execution_count": null,
   "metadata": {},
   "outputs": [],
   "source": []
  }
 ],
 "metadata": {
  "kernelspec": {
   "display_name": "Python 3",
   "language": "python",
   "name": "python3"
  },
  "language_info": {
   "codemirror_mode": {
    "name": "ipython",
    "version": 3
   },
   "file_extension": ".py",
   "mimetype": "text/x-python",
   "name": "python",
   "nbconvert_exporter": "python",
   "pygments_lexer": "ipython3",
   "version": "3.7.0"
  }
 },
 "nbformat": 4,
 "nbformat_minor": 2
}
