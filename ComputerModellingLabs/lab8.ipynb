{
 "cells": [
  {
   "cell_type": "code",
   "execution_count": 1,
   "metadata": {},
   "outputs": [],
   "source": [
    "from numpy import *\n",
    "import pylab as p\n",
    "from scipy import integrate\n",
    "from ipywidgets import interact\n",
    "\n",
    "def dX_dt(X, t=0, f=0.1):\n",
    "    return array([ r*X[0] -   a*X[0]*X[1],\n",
    "                  -q*X[1] + f*a*X[0]*X[1] ])\n",
    "\n",
    "def d2X_dt2(X, t=0, f=0.1):\n",
    "    return array([[r-a*X[1],     -a*X[0]],\n",
    "                  [a*f*X[1], -q+a*f*X[0]] ])"
   ]
  },
  {
   "cell_type": "code",
   "execution_count": 2,
   "metadata": {},
   "outputs": [],
   "source": [
    "r = 5\n",
    "a = 0.1\n",
    "q = 2\n",
    "# f = 1.1\n",
    "\n",
    "T = 1000\n",
    "N0 = 100\n",
    "C0 = 6\n",
    "N_array = C_array = empty((0, T), int)"
   ]
  },
  {
   "cell_type": "code",
   "execution_count": 3,
   "metadata": {},
   "outputs": [],
   "source": [
    "t = linspace(0, 15,  T)              \n",
    "X0 = array([N0, C0])\n",
    "\n",
    "def myintergrate(f):\n",
    "    X_f0 = array([      0,   0])\n",
    "    X_f1 = array([q/(f*a), r/a])\n",
    "    all(dX_dt(X_f0, f=f) == zeros(2)) and all(dX_dt(X_f1, f=f) == zeros(2))\n",
    "\n",
    "#     A_f0 = d2X_dt2(X_f0, f=f)\n",
    "#     A_f1 = d2X_dt2(X_f1, f=f)\n",
    "\n",
    "#     lambda1, lambda2 = linalg.eigvals(A_f1)\n",
    "#     T_f1 = 2*pi/abs(lambda1)\n",
    "#     print(lambda1, lambda2, T_f1)\n",
    "\n",
    "    X = integrate.odeint(dX_dt, X0, t, args=(f,))\n",
    "    N, C = X.T\n",
    "    return N, C"
   ]
  },
  {
   "cell_type": "code",
   "execution_count": 4,
   "metadata": {},
   "outputs": [
    {
     "data": {
      "application/vnd.jupyter.widget-view+json": {
       "model_id": "2dbcb19ce0394c33a60a257a162abaa0",
       "version_major": 2,
       "version_minor": 0
      },
      "text/plain": [
       "interactive(children=(FloatSlider(value=1.0, description='f', max=2.0, min=0.1), Output()), _dom_classes=('wid…"
      ]
     },
     "metadata": {},
     "output_type": "display_data"
    },
    {
     "data": {
      "text/plain": [
       "<function __main__.plotNC(f)>"
      ]
     },
     "execution_count": 4,
     "metadata": {},
     "output_type": "execute_result"
    }
   ],
   "source": [
    "def plotNC(f):\n",
    "    N, C = myintergrate(f)\n",
    "    p.plot(t, N, 'r-', label='Жертвы')\n",
    "    p.plot(t, C, 'b-', label='Хищники')\n",
    "    p.grid()\n",
    "    p.legend(loc='best')\n",
    "    p.xlabel('время')\n",
    "    p.ylabel('популяция')\n",
    "    p.title('Модель конкуренции')\n",
    "    p.show()\n",
    "    \n",
    "interact(plotNC, f=(.1, 2, .1))"
   ]
  },
  {
   "cell_type": "code",
   "execution_count": 5,
   "metadata": {},
   "outputs": [
    {
     "data": {
      "application/vnd.jupyter.widget-view+json": {
       "model_id": "7e526305e76d4ebea977484f3c3cf4e5",
       "version_major": 2,
       "version_minor": 0
      },
      "text/plain": [
       "interactive(children=(FloatSlider(value=1.0, description='f', max=2.0, min=0.1), Output()), _dom_classes=('wid…"
      ]
     },
     "metadata": {},
     "output_type": "display_data"
    },
    {
     "data": {
      "text/plain": [
       "<function __main__.plot2(f)>"
      ]
     },
     "execution_count": 5,
     "metadata": {},
     "output_type": "execute_result"
    }
   ],
   "source": [
    "def plot2(f):\n",
    "    X_f1 = array([q/(f*a), r/a])\n",
    "    values  = linspace(0.3, 0.9, 5) \n",
    "    vcolors = p.cm.ocean_r(linspace(0.3, 1., len(values)))\n",
    "\n",
    "    for v, col in zip(values, vcolors):\n",
    "        X0 = v * X_f1 \n",
    "        X = integrate.odeint(dX_dt, X0, t, args=(f,))\n",
    "        p.plot(X[:,0], \n",
    "               X[:,1], \n",
    "               lw=3.5*v, color=col,\n",
    "               label='X0=(%.f, %.f)' % ( X0[0], X0[1]))\n",
    "\n",
    "    ymax = p.ylim(ymin=0)[1]\n",
    "    xmax = p.xlim(xmin=0)[1]\n",
    "    nb_points  = 20\n",
    "\n",
    "    x = linspace(0, xmax, nb_points)\n",
    "    y = linspace(0, ymax, nb_points)\n",
    "\n",
    "    X1, Y1  = meshgrid(x, y)\n",
    "    DX1, DY1 = dX_dt([X1, Y1], f=f) \n",
    "    M = (hypot(DX1, DY1))\n",
    "    M[M == 0] = 1.\n",
    "    DX1 /= M\n",
    "    DY1 /= M\n",
    "\n",
    "    p.title('')\n",
    "    Q = p.quiver(X1, Y1, DX1, DY1, M, pivot='mid', cmap=p.cm.autumn)\n",
    "    p.xlabel('Количество жертв')\n",
    "    p.ylabel('Количество хищников')\n",
    "    p.legend()\n",
    "    p.grid()\n",
    "    p.xlim(0, xmax)\n",
    "    p.ylim(0, ymax)\n",
    "    \n",
    "interact(plot2, f=(.1, 2, .1))"
   ]
  },
  {
   "cell_type": "code",
   "execution_count": null,
   "metadata": {},
   "outputs": [],
   "source": []
  }
 ],
 "metadata": {
  "kernelspec": {
   "display_name": "Python 3",
   "language": "python",
   "name": "python3"
  },
  "language_info": {
   "codemirror_mode": {
    "name": "ipython",
    "version": 3
   },
   "file_extension": ".py",
   "mimetype": "text/x-python",
   "name": "python",
   "nbconvert_exporter": "python",
   "pygments_lexer": "ipython3",
   "version": "3.7.0"
  }
 },
 "nbformat": 4,
 "nbformat_minor": 2
}
